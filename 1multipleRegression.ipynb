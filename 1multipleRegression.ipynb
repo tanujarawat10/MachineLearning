{
 "cells": [
  {
   "cell_type": "code",
   "execution_count": 1,
   "id": "ef502a76",
   "metadata": {},
   "outputs": [],
   "source": [
    "import numpy as np\n",
    "import pandas as pd\n",
    "import matplotlib.pyplot as plt\n",
    "import seaborn as sns"
   ]
  },
  {
   "cell_type": "code",
   "execution_count": 2,
   "id": "b33a8c51",
   "metadata": {},
   "outputs": [],
   "source": [
    "import warnings\n",
    "warnings.filterwarnings('ignore')"
   ]
  },
  {
   "cell_type": "code",
   "execution_count": 3,
   "id": "c869599f",
   "metadata": {},
   "outputs": [],
   "source": [
    "from sklearn import linear_model\n",
    "from sklearn.linear_model import LinearRegression\n",
    "from sklearn import metrics"
   ]
  },
  {
   "cell_type": "code",
   "execution_count": 5,
   "id": "2b21103c",
   "metadata": {},
   "outputs": [],
   "source": [
    "from sklearn.metrics import mean_squared_error,mean_absolute_error\n",
    "from sklearn.model_selection import train_test_split,cross_val_score\n",
    "df=pd.read_csv(\"C:\\Tanuja\\cars.csv\")"
   ]
  },
  {
   "cell_type": "code",
   "execution_count": 6,
   "id": "d1f353f2",
   "metadata": {},
   "outputs": [],
   "source": [
    "x=df[['weight','mileage']]\n",
    "y=df['fuel']"
   ]
  },
  {
   "cell_type": "code",
   "execution_count": 7,
   "id": "e9270665",
   "metadata": {},
   "outputs": [],
   "source": [
    "x_train,x_test,y_train,y_test=train_test_split(x,y,test_size=0.3,random_state=10)"
   ]
  },
  {
   "cell_type": "code",
   "execution_count": 8,
   "id": "1e9bf81a",
   "metadata": {},
   "outputs": [],
   "source": [
    "y_train.shape\n",
    "y_test.shape\n",
    "reg_model=linear_model.LinearRegression()"
   ]
  },
  {
   "cell_type": "code",
   "execution_count": 10,
   "id": "744a08da",
   "metadata": {},
   "outputs": [
    {
     "name": "stdout",
     "output_type": "stream",
     "text": [
      "intercept: -3.9684077137125016\n"
     ]
    }
   ],
   "source": [
    "reg_model=LinearRegression().fit(x_train,y_train)\n",
    "print('intercept:',reg_model.intercept_)"
   ]
  },
  {
   "cell_type": "code",
   "execution_count": 12,
   "id": "b92e4c0c",
   "metadata": {},
   "outputs": [],
   "source": [
    "list(zip(x,reg_model.coef_))\n",
    "y_pred=reg_model.predict(x_test)"
   ]
  },
  {
   "cell_type": "code",
   "execution_count": 13,
   "id": "f3471b95",
   "metadata": {},
   "outputs": [
    {
     "name": "stdout",
     "output_type": "stream",
     "text": [
      "Prediction for test set:[40.32346796 42.29942253]\n"
     ]
    }
   ],
   "source": [
    "x_pred=reg_model.predict(x_train)\n",
    "print(\"Prediction for test set:{}\".format(y_pred))"
   ]
  },
  {
   "cell_type": "code",
   "execution_count": 14,
   "id": "8d12c056",
   "metadata": {},
   "outputs": [
    {
     "name": "stdout",
     "output_type": "stream",
     "text": [
      "   Actual value  Predicted value\n",
      "2            37        40.323468\n",
      "5            50        42.299423\n"
     ]
    }
   ],
   "source": [
    "reg_model_diff=pd.DataFrame({'Actual value':y_test,'Predicted value':y_pred})\n",
    "print(reg_model_diff)"
   ]
  },
  {
   "cell_type": "code",
   "execution_count": 15,
   "id": "076e791e",
   "metadata": {},
   "outputs": [],
   "source": [
    "mae=metrics.mean_absolute_error(y_test,y_pred)\n",
    "mse=metrics.mean_squared_error(y_test,y_pred)\n",
    "np.sqrt(metrics.mean_squared_error(y_test,y_pred))\n",
    "r2=np.sqrt(metrics.mean_squared_error(y_test,y_pred))"
   ]
  },
  {
   "cell_type": "code",
   "execution_count": 16,
   "id": "46cde1c0",
   "metadata": {},
   "outputs": [
    {
     "name": "stdout",
     "output_type": "stream",
     "text": [
      "Mean Absolute Error: 5.51202271278753\n"
     ]
    }
   ],
   "source": [
    "print('Mean Absolute Error:',mae)"
   ]
  },
  {
   "cell_type": "code",
   "execution_count": 18,
   "id": "5f847930",
   "metadata": {},
   "outputs": [
    {
     "name": "stdout",
     "output_type": "stream",
     "text": [
      "Mean Squared Error: 35.172166297079\n"
     ]
    }
   ],
   "source": [
    "print('Mean Squared Error:',mse)"
   ]
  },
  {
   "cell_type": "code",
   "execution_count": 19,
   "id": "e2a646c4",
   "metadata": {},
   "outputs": [
    {
     "name": "stdout",
     "output_type": "stream",
     "text": [
      "Root Mean Absolute Error: 5.930612640957003\n"
     ]
    }
   ],
   "source": [
    "print('Root Mean Absolute Error:',r2)"
   ]
  },
  {
   "cell_type": "code",
   "execution_count": 2,
   "id": "28939959",
   "metadata": {},
   "outputs": [
    {
     "ename": "NameError",
     "evalue": "name 'source_file' is not defined",
     "output_type": "error",
     "traceback": [
      "\u001b[1;31m---------------------------------------------------------------------------\u001b[0m",
      "\u001b[1;31mNameError\u001b[0m                                 Traceback (most recent call last)",
      "\u001b[1;32m~\\AppData\\Local\\Temp\\ipykernel_13100\\47941954.py\u001b[0m in \u001b[0;36m<module>\u001b[1;34m\u001b[0m\n\u001b[0;32m      6\u001b[0m \u001b[1;33m\u001b[0m\u001b[0m\n\u001b[0;32m      7\u001b[0m \u001b[1;31m# Use shutil.move() to move the file to the destination folder\u001b[0m\u001b[1;33m\u001b[0m\u001b[1;33m\u001b[0m\u001b[0m\n\u001b[1;32m----> 8\u001b[1;33m \u001b[0mshutil\u001b[0m\u001b[1;33m.\u001b[0m\u001b[0mmove\u001b[0m\u001b[1;33m(\u001b[0m\u001b[0msource_file\u001b[0m\u001b[1;33m,\u001b[0m \u001b[0mdestination_folder\u001b[0m\u001b[1;33m)\u001b[0m\u001b[1;33m\u001b[0m\u001b[1;33m\u001b[0m\u001b[0m\n\u001b[0m",
      "\u001b[1;31mNameError\u001b[0m: name 'source_file' is not defined"
     ]
    }
   ],
   "source": [
    "import shutil\n",
    "\n",
    "# Define paths to the source file and the destination folder\n",
    "# source_file = 'path/to/source/file.txt'\n",
    "destination_folder = \"C:/Users/Admin/MachineLearning\"\n",
    "\n",
    "# Use shutil.move() to move the file to the destination folder\n",
    "shutil.move(source_file, destination_folder)\n"
   ]
  },
  {
   "cell_type": "code",
   "execution_count": null,
   "id": "72543836",
   "metadata": {},
   "outputs": [],
   "source": []
  }
 ],
 "metadata": {
  "kernelspec": {
   "display_name": "Python 3 (ipykernel)",
   "language": "python",
   "name": "python3"
  },
  "language_info": {
   "codemirror_mode": {
    "name": "ipython",
    "version": 3
   },
   "file_extension": ".py",
   "mimetype": "text/x-python",
   "name": "python",
   "nbconvert_exporter": "python",
   "pygments_lexer": "ipython3",
   "version": "3.9.13"
  }
 },
 "nbformat": 4,
 "nbformat_minor": 5
}
