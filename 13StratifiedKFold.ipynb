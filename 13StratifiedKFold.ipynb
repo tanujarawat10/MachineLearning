{
 "cells": [
  {
   "cell_type": "code",
   "execution_count": 1,
   "id": "835d66e2",
   "metadata": {},
   "outputs": [
    {
     "name": "stdout",
     "output_type": "stream",
     "text": [
      "Train: [1 3 4 5] test: [0 2]\n",
      "Train: [0 2 3 5] test: [1 4]\n",
      "Train: [0 1 2 4] test: [3 5]\n"
     ]
    }
   ],
   "source": [
    "from sklearn.model_selection import StratifiedKFold\n",
    "import numpy as np\n",
    "X= np.array([[1,2],[3,4],[4,5],[7,8],[9,10],[11,12]])\n",
    "y= np.array([0,0,1,0,1,1])\n",
    "\n",
    "skf=StratifiedKFold(n_splits=3,random_state=None,shuffle=(False))\n",
    "\n",
    "for train_index,test_index in skf.split(X,y):\n",
    "    print(\"Train:\", train_index,\"test:\",test_index)\n",
    "    X_train,X_test= X[train_index],X[test_index]\n",
    "    y_train,y_test= y[train_index],y[test_index]"
   ]
  },
  {
   "cell_type": "code",
   "execution_count": null,
   "id": "13f1a71d",
   "metadata": {},
   "outputs": [],
   "source": []
  }
 ],
 "metadata": {
  "kernelspec": {
   "display_name": "Python 3 (ipykernel)",
   "language": "python",
   "name": "python3"
  },
  "language_info": {
   "codemirror_mode": {
    "name": "ipython",
    "version": 3
   },
   "file_extension": ".py",
   "mimetype": "text/x-python",
   "name": "python",
   "nbconvert_exporter": "python",
   "pygments_lexer": "ipython3",
   "version": "3.9.13"
  }
 },
 "nbformat": 4,
 "nbformat_minor": 5
}
