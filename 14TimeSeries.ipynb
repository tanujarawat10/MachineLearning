{
 "cells": [
  {
   "cell_type": "code",
   "execution_count": 1,
   "id": "844f3322",
   "metadata": {},
   "outputs": [
    {
     "name": "stdout",
     "output_type": "stream",
     "text": [
      "TRAIN: [0] TEST: [1]\n",
      "[[10 20]] [100]\n",
      "TRAIN: [0 1] TEST: [2]\n",
      "[[10 20]\n",
      " [30 40]] [100 200]\n",
      "TRAIN: [0 1 2] TEST: [3]\n",
      "[[10 20]\n",
      " [30 40]\n",
      " [50 60]] [100 200 300]\n",
      "TRAIN: [0 1 2 3] TEST: [4]\n",
      "[[10 20]\n",
      " [30 40]\n",
      " [50 60]\n",
      " [20 50]] [100 200 300 400]\n"
     ]
    }
   ],
   "source": [
    "from sklearn.model_selection import TimeSeriesSplit\n",
    "import numpy as np\n",
    "X=np.array([[10,20],[30,40],[50,60],[20,50],[10,30]])\n",
    "y=np.array([100,200,300,400,500,600])\n",
    "tscv =TimeSeriesSplit(n_splits=4)\n",
    "\n",
    "for train_index, test_index in tscv.split(X):\n",
    "    print(\"TRAIN:\",train_index, \"TEST:\", test_index)\n",
    "    \n",
    "    #to get the indices\n",
    "    X_train, X_test =X[train_index],X[test_index]\n",
    "    y_train, y_test =y[train_index],y[test_index]\n",
    "    print(X_train, y_train)"
   ]
  },
  {
   "cell_type": "code",
   "execution_count": null,
   "id": "a4d77105",
   "metadata": {},
   "outputs": [],
   "source": []
  }
 ],
 "metadata": {
  "kernelspec": {
   "display_name": "Python 3 (ipykernel)",
   "language": "python",
   "name": "python3"
  },
  "language_info": {
   "codemirror_mode": {
    "name": "ipython",
    "version": 3
   },
   "file_extension": ".py",
   "mimetype": "text/x-python",
   "name": "python",
   "nbconvert_exporter": "python",
   "pygments_lexer": "ipython3",
   "version": "3.9.13"
  }
 },
 "nbformat": 4,
 "nbformat_minor": 5
}
