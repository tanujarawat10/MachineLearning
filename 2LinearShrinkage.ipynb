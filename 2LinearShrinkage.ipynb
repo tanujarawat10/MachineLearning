{
 "cells": [
  {
   "cell_type": "code",
   "execution_count": 1,
   "id": "f1a3f2a3",
   "metadata": {},
   "outputs": [],
   "source": [
    "import numpy as np\n",
    "import pandas as pd\n",
    "import matplotlib.pyplot as plt\n",
    "import seaborn as sns"
   ]
  },
  {
   "cell_type": "code",
   "execution_count": 3,
   "id": "89aa7aa5",
   "metadata": {},
   "outputs": [],
   "source": [
    "from sklearn import linear_model\n",
    "from sklearn.linear_model import Lasso\n",
    "from sklearn.linear_model import Ridge\n",
    "from sklearn.linear_model import ElasticNet\n",
    "from sklearn.datasets import make_classification\n",
    "from sklearn import metrics"
   ]
  },
  {
   "cell_type": "code",
   "execution_count": 5,
   "id": "284a83af",
   "metadata": {},
   "outputs": [
    {
     "name": "stdout",
     "output_type": "stream",
     "text": [
      "Lasso Train RMSE 0.49952\n"
     ]
    }
   ],
   "source": [
    "from sklearn.model_selection import train_test_split\n",
    "x,y= make_classification(n_samples=1000,n_classes=2,random_state=1)\n",
    "x_train,x_test,y_train,y_test=train_test_split(x,y,test_size=0.5,random_state=2)\n",
    "lasso=Lasso()\n",
    "lasso.fit(x_train,y_train)\n",
    "print(\"Lasso Train RMSE\",np.round(np.sqrt(metrics.mean_squared_error(y_train,lasso.predict(x_train))),5))"
   ]
  },
  {
   "cell_type": "code",
   "execution_count": 6,
   "id": "a68d2655",
   "metadata": {},
   "outputs": [
    {
     "name": "stdout",
     "output_type": "stream",
     "text": [
      "Lasso Test RMSE 0.50136\n"
     ]
    }
   ],
   "source": [
    "print(\"Lasso Test RMSE\",np.round(np.sqrt(metrics.mean_squared_error(y_test,lasso.predict(x_test))),5))"
   ]
  },
  {
   "cell_type": "code",
   "execution_count": 9,
   "id": "72daaa9a",
   "metadata": {},
   "outputs": [
    {
     "name": "stdout",
     "output_type": "stream",
     "text": [
      "Ridge Train RMSE 0.33689\n"
     ]
    }
   ],
   "source": [
    "ridge=Ridge()\n",
    "ridge.fit(x_train,y_train)\n",
    "print(\"Ridge Train RMSE\",np.round(np.sqrt(metrics.mean_squared_error(y_train,ridge.predict(x_train))),5))"
   ]
  },
  {
   "cell_type": "code",
   "execution_count": 13,
   "id": "9451a0bd",
   "metadata": {},
   "outputs": [
    {
     "name": "stdout",
     "output_type": "stream",
     "text": [
      "Ridge Test RMSE 0.37022\n"
     ]
    }
   ],
   "source": [
    "print(\"Ridge Test RMSE\",np.round(np.sqrt(metrics.mean_squared_error(y_test,ridge.predict(x_test))),5))"
   ]
  },
  {
   "cell_type": "code",
   "execution_count": 11,
   "id": "e408f335",
   "metadata": {},
   "outputs": [
    {
     "name": "stdout",
     "output_type": "stream",
     "text": [
      "ElasticNet Train RMSE 0.49238\n"
     ]
    }
   ],
   "source": [
    "elasticnet= ElasticNet()\n",
    "elasticnet.fit(x_train,y_train)\n",
    "print(\"ElasticNet Train RMSE\",np.round(np.sqrt(metrics.mean_squared_error(y_train,elasticnet.predict(x_train))),5))"
   ]
  },
  {
   "cell_type": "code",
   "execution_count": 14,
   "id": "9b04808e",
   "metadata": {},
   "outputs": [
    {
     "name": "stdout",
     "output_type": "stream",
     "text": [
      "ElasticNet Test RMSE 0.49478\n"
     ]
    }
   ],
   "source": [
    "print(\"ElasticNet Test RMSE\",np.round(np.sqrt(metrics.mean_squared_error(y_test,elasticnet.predict(x_test))),5))"
   ]
  },
  {
   "cell_type": "code",
   "execution_count": null,
   "id": "bd86616b",
   "metadata": {},
   "outputs": [],
   "source": []
  }
 ],
 "metadata": {
  "kernelspec": {
   "display_name": "Python 3 (ipykernel)",
   "language": "python",
   "name": "python3"
  },
  "language_info": {
   "codemirror_mode": {
    "name": "ipython",
    "version": 3
   },
   "file_extension": ".py",
   "mimetype": "text/x-python",
   "name": "python",
   "nbconvert_exporter": "python",
   "pygments_lexer": "ipython3",
   "version": "3.9.13"
  }
 },
 "nbformat": 4,
 "nbformat_minor": 5
}
