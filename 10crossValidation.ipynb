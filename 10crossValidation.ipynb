{
 "cells": [
  {
   "cell_type": "code",
   "execution_count": 1,
   "id": "90edcc2b",
   "metadata": {},
   "outputs": [
    {
     "name": "stdout",
     "output_type": "stream",
     "text": [
      "(150, 4) (150,)\n",
      "(90, 4) (90,)\n",
      "(60, 4) (60,)\n",
      "0.9666666666666667\n",
      "TRAIN [1] TEST [0]\n",
      "[[3 4]] [[1 2]]\n",
      "[2] [1]\n",
      "TRAIN [0] TEST [1]\n",
      "[[1 2]] [[3 4]]\n",
      "[1] [2]\n"
     ]
    }
   ],
   "source": [
    "import numpy as np\n",
    "from sklearn.model_selection import train_test_split\n",
    "from sklearn import datasets\n",
    "from sklearn import svm\n",
    "from sklearn.model_selection import cross_val_score\n",
    " #Load dataset\n",
    "X,y =datasets.load_iris(return_X_y=True)\n",
    "print(X.shape,y.shape)\n",
    "X_train, X_test, y_train, y_test=train_test_split(X,y,test_size=0.4,random_state=0)\n",
    " \n",
    "print(X_train.shape,y_train.shape)\n",
    "print(X_test.shape,y_test.shape)\n",
    " \n",
    "clf=svm.SVC(kernel='linear',C=1).fit(X_train,y_train)\n",
    "print(clf.score(X_test, y_test))\n",
    " \n",
    "# clf=svm.SVC(kernel='linear',C=1,random_state=42)\n",
    "# scores= cross_val_score(clf,X,y,cv=5)\n",
    "# print(scores)\n",
    "\n",
    "# from sklearn.model_selection import ShuffleSplit\n",
    "# n_samples= X.shape[0]\n",
    "# cv=ShuffleSplit(n_splits=5, test_size=0.3, random_state=0)\n",
    "# print(cross_val_score(clf, X,y,cv=cv))\n",
    "\n",
    "from sklearn.model_selection import LeaveOneOut\n",
    "\n",
    "X= np.array([[1,2],[3,4]])\n",
    "y=np.array([1,2])\n",
    "loo=LeaveOneOut()\n",
    "\n",
    "for train_index, test_index in loo.split(X):\n",
    "    print(\"TRAIN\",train_index,\"TEST\",test_index)\n",
    "    X_train,X_test=X[train_index],X[test_index]\n",
    "    y_train,y_test=y[train_index],y[test_index]\n",
    "    print(X_train,X_test)\n",
    "    print(y_train,y_test)"
   ]
  },
  {
   "cell_type": "code",
   "execution_count": null,
   "id": "0ba201f5",
   "metadata": {},
   "outputs": [],
   "source": []
  }
 ],
 "metadata": {
  "kernelspec": {
   "display_name": "Python 3 (ipykernel)",
   "language": "python",
   "name": "python3"
  },
  "language_info": {
   "codemirror_mode": {
    "name": "ipython",
    "version": 3
   },
   "file_extension": ".py",
   "mimetype": "text/x-python",
   "name": "python",
   "nbconvert_exporter": "python",
   "pygments_lexer": "ipython3",
   "version": "3.9.13"
  }
 },
 "nbformat": 4,
 "nbformat_minor": 5
}
